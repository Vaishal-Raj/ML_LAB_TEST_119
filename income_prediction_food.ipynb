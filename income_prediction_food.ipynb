{
 "cells": [
  {
   "cell_type": "markdown",
   "id": "45c5c3db-94d7-433d-9655-f9a8a0d371ce",
   "metadata": {},
   "source": [
    "Q2 -----------------------------------------------------------------------------"
   ]
  },
  {
   "cell_type": "code",
   "execution_count": 91,
   "id": "2c7edd87-2ffb-402c-a61b-4eeb62f4af1f",
   "metadata": {},
   "outputs": [
    {
     "name": "stdout",
     "output_type": "stream",
     "text": [
      "--------------------------------------------------------------------------------------------------\n"
     ]
    }
   ],
   "source": [
    "#Q2\n",
    "print(\"--------------------------------------------------------------------------------------------------\")\n",
    "import pandas as pd\n",
    "import numpy as np\n",
    "import matplotlib.pyplot as plt\n",
    "from sklearn.model_selection import train_test_split\n",
    "from sklearn.preprocessing import LabelEncoder, StandardScaler, MinMaxScaler\n",
    "from sklearn.metrics import accuracy_score, classification_report, roc_curve, roc_auc_score\n",
    "from sklearn.linear_model import LogisticRegression, Perceptron\n",
    "from sklearn.neural_network import MLPClassifier\n",
    "from sklearn.neighbors import KNeighborsClassifier\n",
    "from sklearn.svm import SVC\n",
    "from sklearn.naive_bayes import GaussianNB\n",
    "\n",
    "\n"
   ]
  },
  {
   "cell_type": "markdown",
   "id": "6e62d5c5-e710-4ae4-9767-862a946f6814",
   "metadata": {},
   "source": [
    "Loading the dataset and preprocessing the data"
   ]
  },
  {
   "cell_type": "code",
   "execution_count": 92,
   "id": "2ed5d557-9f05-4950-9bf1-0e38139708c6",
   "metadata": {},
   "outputs": [
    {
     "data": {
      "text/plain": [
       "(388, 12)"
      ]
     },
     "execution_count": 92,
     "metadata": {},
     "output_type": "execute_result"
    }
   ],
   "source": [
    "# Step 1: Load the dataset\n",
    "data = pd.read_csv(\"onlinefoods.csv\")\n",
    "\n",
    "# Step 2: Pre-Processing\n",
    "# Drop irrelevant columns\n",
    "data.drop(columns=['Unnamed: 12'], inplace=True)\n",
    "data.shape"
   ]
  },
  {
   "cell_type": "markdown",
   "id": "4e61448d-5845-4719-8a39-c8b67f4653f7",
   "metadata": {},
   "source": [
    "Checking for missing values"
   ]
  },
  {
   "cell_type": "code",
   "execution_count": 93,
   "id": "ed40e8b8-f8e4-402c-9bb5-b8088c878a42",
   "metadata": {},
   "outputs": [
    {
     "data": {
      "text/plain": [
       "Age                           0\n",
       "Gender                        0\n",
       "Marital Status                0\n",
       "Occupation                    0\n",
       "Monthly Income                0\n",
       "Educational Qualifications    0\n",
       "Family size                   0\n",
       "latitude                      0\n",
       "longitude                     0\n",
       "Pin code                      0\n",
       "Output                        0\n",
       "Feedback                      0\n",
       "dtype: int64"
      ]
     },
     "execution_count": 93,
     "metadata": {},
     "output_type": "execute_result"
    }
   ],
   "source": [
    "#checking for null values\n",
    "data.isnull().sum()\n"
   ]
  },
  {
   "cell_type": "code",
   "execution_count": 94,
   "id": "8633dfc8-ea3c-4c7a-b025-ea7ee5424638",
   "metadata": {},
   "outputs": [
    {
     "data": {
      "text/html": [
       "<div>\n",
       "<style scoped>\n",
       "    .dataframe tbody tr th:only-of-type {\n",
       "        vertical-align: middle;\n",
       "    }\n",
       "\n",
       "    .dataframe tbody tr th {\n",
       "        vertical-align: top;\n",
       "    }\n",
       "\n",
       "    .dataframe thead th {\n",
       "        text-align: right;\n",
       "    }\n",
       "</style>\n",
       "<table border=\"1\" class=\"dataframe\">\n",
       "  <thead>\n",
       "    <tr style=\"text-align: right;\">\n",
       "      <th></th>\n",
       "      <th>Age</th>\n",
       "      <th>Family size</th>\n",
       "      <th>latitude</th>\n",
       "      <th>longitude</th>\n",
       "      <th>Pin code</th>\n",
       "    </tr>\n",
       "  </thead>\n",
       "  <tbody>\n",
       "    <tr>\n",
       "      <th>count</th>\n",
       "      <td>388.000000</td>\n",
       "      <td>388.000000</td>\n",
       "      <td>388.000000</td>\n",
       "      <td>388.000000</td>\n",
       "      <td>388.000000</td>\n",
       "    </tr>\n",
       "    <tr>\n",
       "      <th>mean</th>\n",
       "      <td>24.628866</td>\n",
       "      <td>3.280928</td>\n",
       "      <td>12.972058</td>\n",
       "      <td>77.600160</td>\n",
       "      <td>560040.113402</td>\n",
       "    </tr>\n",
       "    <tr>\n",
       "      <th>std</th>\n",
       "      <td>2.975593</td>\n",
       "      <td>1.351025</td>\n",
       "      <td>0.044489</td>\n",
       "      <td>0.051354</td>\n",
       "      <td>31.399609</td>\n",
       "    </tr>\n",
       "    <tr>\n",
       "      <th>min</th>\n",
       "      <td>18.000000</td>\n",
       "      <td>1.000000</td>\n",
       "      <td>12.865200</td>\n",
       "      <td>77.484200</td>\n",
       "      <td>560001.000000</td>\n",
       "    </tr>\n",
       "    <tr>\n",
       "      <th>25%</th>\n",
       "      <td>23.000000</td>\n",
       "      <td>2.000000</td>\n",
       "      <td>12.936900</td>\n",
       "      <td>77.565275</td>\n",
       "      <td>560010.750000</td>\n",
       "    </tr>\n",
       "    <tr>\n",
       "      <th>50%</th>\n",
       "      <td>24.000000</td>\n",
       "      <td>3.000000</td>\n",
       "      <td>12.977000</td>\n",
       "      <td>77.592100</td>\n",
       "      <td>560033.500000</td>\n",
       "    </tr>\n",
       "    <tr>\n",
       "      <th>75%</th>\n",
       "      <td>26.000000</td>\n",
       "      <td>4.000000</td>\n",
       "      <td>12.997025</td>\n",
       "      <td>77.630900</td>\n",
       "      <td>560068.000000</td>\n",
       "    </tr>\n",
       "    <tr>\n",
       "      <th>max</th>\n",
       "      <td>33.000000</td>\n",
       "      <td>6.000000</td>\n",
       "      <td>13.102000</td>\n",
       "      <td>77.758200</td>\n",
       "      <td>560109.000000</td>\n",
       "    </tr>\n",
       "  </tbody>\n",
       "</table>\n",
       "</div>"
      ],
      "text/plain": [
       "              Age  Family size    latitude   longitude       Pin code\n",
       "count  388.000000   388.000000  388.000000  388.000000     388.000000\n",
       "mean    24.628866     3.280928   12.972058   77.600160  560040.113402\n",
       "std      2.975593     1.351025    0.044489    0.051354      31.399609\n",
       "min     18.000000     1.000000   12.865200   77.484200  560001.000000\n",
       "25%     23.000000     2.000000   12.936900   77.565275  560010.750000\n",
       "50%     24.000000     3.000000   12.977000   77.592100  560033.500000\n",
       "75%     26.000000     4.000000   12.997025   77.630900  560068.000000\n",
       "max     33.000000     6.000000   13.102000   77.758200  560109.000000"
      ]
     },
     "execution_count": 94,
     "metadata": {},
     "output_type": "execute_result"
    }
   ],
   "source": [
    "data.describe()"
   ]
  },
  {
   "cell_type": "code",
   "execution_count": 95,
   "id": "dec964ca-7bc0-467a-ae38-75f1f8ddc2a9",
   "metadata": {},
   "outputs": [
    {
     "name": "stdout",
     "output_type": "stream",
     "text": [
      "<class 'pandas.core.frame.DataFrame'>\n",
      "RangeIndex: 388 entries, 0 to 387\n",
      "Data columns (total 12 columns):\n",
      " #   Column                      Non-Null Count  Dtype  \n",
      "---  ------                      --------------  -----  \n",
      " 0   Age                         388 non-null    int64  \n",
      " 1   Gender                      388 non-null    object \n",
      " 2   Marital Status              388 non-null    object \n",
      " 3   Occupation                  388 non-null    object \n",
      " 4   Monthly Income              388 non-null    object \n",
      " 5   Educational Qualifications  388 non-null    object \n",
      " 6   Family size                 388 non-null    int64  \n",
      " 7   latitude                    388 non-null    float64\n",
      " 8   longitude                   388 non-null    float64\n",
      " 9   Pin code                    388 non-null    int64  \n",
      " 10  Output                      388 non-null    object \n",
      " 11  Feedback                    388 non-null    object \n",
      "dtypes: float64(2), int64(3), object(7)\n",
      "memory usage: 36.5+ KB\n"
     ]
    }
   ],
   "source": [
    "data.info()"
   ]
  },
  {
   "cell_type": "markdown",
   "id": "6d30badd-c3dd-4f5d-b63c-2c35eefad5d7",
   "metadata": {},
   "source": [
    "Converting object columns to numerical types."
   ]
  },
  {
   "cell_type": "code",
   "execution_count": 96,
   "id": "80151fbd-9046-4243-890a-ea42a5bac1cb",
   "metadata": {},
   "outputs": [],
   "source": [
    "# Encode categorical variables\n",
    "encoder = LabelEncoder()\n",
    "cat_cols = ['Gender', 'Marital Status', 'Occupation', 'Educational Qualifications', 'Feedback']\n",
    "for col in cat_cols:\n",
    "    data[col] = encoder.fit_transform(data[col])\n"
   ]
  },
  {
   "cell_type": "code",
   "execution_count": 97,
   "id": "78a23533-8b3f-427a-9e4e-bfb14f04db1a",
   "metadata": {},
   "outputs": [
    {
     "data": {
      "text/html": [
       "<div>\n",
       "<style scoped>\n",
       "    .dataframe tbody tr th:only-of-type {\n",
       "        vertical-align: middle;\n",
       "    }\n",
       "\n",
       "    .dataframe tbody tr th {\n",
       "        vertical-align: top;\n",
       "    }\n",
       "\n",
       "    .dataframe thead th {\n",
       "        text-align: right;\n",
       "    }\n",
       "</style>\n",
       "<table border=\"1\" class=\"dataframe\">\n",
       "  <thead>\n",
       "    <tr style=\"text-align: right;\">\n",
       "      <th></th>\n",
       "      <th>Age</th>\n",
       "      <th>Gender</th>\n",
       "      <th>Marital Status</th>\n",
       "      <th>Occupation</th>\n",
       "      <th>Monthly Income</th>\n",
       "      <th>Educational Qualifications</th>\n",
       "      <th>Family size</th>\n",
       "      <th>latitude</th>\n",
       "      <th>longitude</th>\n",
       "      <th>Pin code</th>\n",
       "      <th>Output</th>\n",
       "      <th>Feedback</th>\n",
       "    </tr>\n",
       "  </thead>\n",
       "  <tbody>\n",
       "    <tr>\n",
       "      <th>0</th>\n",
       "      <td>20</td>\n",
       "      <td>0</td>\n",
       "      <td>2</td>\n",
       "      <td>3</td>\n",
       "      <td>No Income</td>\n",
       "      <td>2</td>\n",
       "      <td>4</td>\n",
       "      <td>12.9766</td>\n",
       "      <td>77.5993</td>\n",
       "      <td>560001</td>\n",
       "      <td>Yes</td>\n",
       "      <td>1</td>\n",
       "    </tr>\n",
       "    <tr>\n",
       "      <th>1</th>\n",
       "      <td>24</td>\n",
       "      <td>0</td>\n",
       "      <td>2</td>\n",
       "      <td>3</td>\n",
       "      <td>Below Rs.10000</td>\n",
       "      <td>0</td>\n",
       "      <td>3</td>\n",
       "      <td>12.9770</td>\n",
       "      <td>77.5773</td>\n",
       "      <td>560009</td>\n",
       "      <td>Yes</td>\n",
       "      <td>1</td>\n",
       "    </tr>\n",
       "    <tr>\n",
       "      <th>2</th>\n",
       "      <td>22</td>\n",
       "      <td>1</td>\n",
       "      <td>2</td>\n",
       "      <td>3</td>\n",
       "      <td>Below Rs.10000</td>\n",
       "      <td>2</td>\n",
       "      <td>3</td>\n",
       "      <td>12.9551</td>\n",
       "      <td>77.6593</td>\n",
       "      <td>560017</td>\n",
       "      <td>Yes</td>\n",
       "      <td>0</td>\n",
       "    </tr>\n",
       "    <tr>\n",
       "      <th>3</th>\n",
       "      <td>22</td>\n",
       "      <td>0</td>\n",
       "      <td>2</td>\n",
       "      <td>3</td>\n",
       "      <td>No Income</td>\n",
       "      <td>0</td>\n",
       "      <td>6</td>\n",
       "      <td>12.9473</td>\n",
       "      <td>77.5616</td>\n",
       "      <td>560019</td>\n",
       "      <td>Yes</td>\n",
       "      <td>1</td>\n",
       "    </tr>\n",
       "    <tr>\n",
       "      <th>4</th>\n",
       "      <td>22</td>\n",
       "      <td>1</td>\n",
       "      <td>2</td>\n",
       "      <td>3</td>\n",
       "      <td>Below Rs.10000</td>\n",
       "      <td>2</td>\n",
       "      <td>4</td>\n",
       "      <td>12.9850</td>\n",
       "      <td>77.5533</td>\n",
       "      <td>560010</td>\n",
       "      <td>Yes</td>\n",
       "      <td>1</td>\n",
       "    </tr>\n",
       "  </tbody>\n",
       "</table>\n",
       "</div>"
      ],
      "text/plain": [
       "   Age  Gender  Marital Status  Occupation  Monthly Income  \\\n",
       "0   20       0               2           3       No Income   \n",
       "1   24       0               2           3  Below Rs.10000   \n",
       "2   22       1               2           3  Below Rs.10000   \n",
       "3   22       0               2           3       No Income   \n",
       "4   22       1               2           3  Below Rs.10000   \n",
       "\n",
       "   Educational Qualifications  Family size  latitude  longitude  Pin code  \\\n",
       "0                           2            4   12.9766    77.5993    560001   \n",
       "1                           0            3   12.9770    77.5773    560009   \n",
       "2                           2            3   12.9551    77.6593    560017   \n",
       "3                           0            6   12.9473    77.5616    560019   \n",
       "4                           2            4   12.9850    77.5533    560010   \n",
       "\n",
       "  Output  Feedback  \n",
       "0    Yes         1  \n",
       "1    Yes         1  \n",
       "2    Yes         0  \n",
       "3    Yes         1  \n",
       "4    Yes         1  "
      ]
     },
     "execution_count": 97,
     "metadata": {},
     "output_type": "execute_result"
    }
   ],
   "source": [
    "data.head()"
   ]
  },
  {
   "cell_type": "code",
   "execution_count": 98,
   "id": "893d6cb2-2763-46ec-88a8-25cb3f9957cb",
   "metadata": {},
   "outputs": [
    {
     "data": {
      "text/html": [
       "<div>\n",
       "<style scoped>\n",
       "    .dataframe tbody tr th:only-of-type {\n",
       "        vertical-align: middle;\n",
       "    }\n",
       "\n",
       "    .dataframe tbody tr th {\n",
       "        vertical-align: top;\n",
       "    }\n",
       "\n",
       "    .dataframe thead th {\n",
       "        text-align: right;\n",
       "    }\n",
       "</style>\n",
       "<table border=\"1\" class=\"dataframe\">\n",
       "  <thead>\n",
       "    <tr style=\"text-align: right;\">\n",
       "      <th></th>\n",
       "      <th>Age</th>\n",
       "      <th>Gender</th>\n",
       "      <th>Marital Status</th>\n",
       "      <th>Occupation</th>\n",
       "      <th>Monthly Income</th>\n",
       "      <th>Educational Qualifications</th>\n",
       "      <th>Family size</th>\n",
       "      <th>latitude</th>\n",
       "      <th>longitude</th>\n",
       "      <th>Pin code</th>\n",
       "      <th>Output</th>\n",
       "      <th>Feedback</th>\n",
       "    </tr>\n",
       "  </thead>\n",
       "  <tbody>\n",
       "    <tr>\n",
       "      <th>0</th>\n",
       "      <td>20</td>\n",
       "      <td>0</td>\n",
       "      <td>2</td>\n",
       "      <td>3</td>\n",
       "      <td>No Income</td>\n",
       "      <td>2</td>\n",
       "      <td>4</td>\n",
       "      <td>12.9766</td>\n",
       "      <td>77.5993</td>\n",
       "      <td>560001</td>\n",
       "      <td>1</td>\n",
       "      <td>1</td>\n",
       "    </tr>\n",
       "    <tr>\n",
       "      <th>1</th>\n",
       "      <td>24</td>\n",
       "      <td>0</td>\n",
       "      <td>2</td>\n",
       "      <td>3</td>\n",
       "      <td>Below Rs.10000</td>\n",
       "      <td>0</td>\n",
       "      <td>3</td>\n",
       "      <td>12.9770</td>\n",
       "      <td>77.5773</td>\n",
       "      <td>560009</td>\n",
       "      <td>1</td>\n",
       "      <td>1</td>\n",
       "    </tr>\n",
       "    <tr>\n",
       "      <th>2</th>\n",
       "      <td>22</td>\n",
       "      <td>1</td>\n",
       "      <td>2</td>\n",
       "      <td>3</td>\n",
       "      <td>Below Rs.10000</td>\n",
       "      <td>2</td>\n",
       "      <td>3</td>\n",
       "      <td>12.9551</td>\n",
       "      <td>77.6593</td>\n",
       "      <td>560017</td>\n",
       "      <td>1</td>\n",
       "      <td>0</td>\n",
       "    </tr>\n",
       "    <tr>\n",
       "      <th>3</th>\n",
       "      <td>22</td>\n",
       "      <td>0</td>\n",
       "      <td>2</td>\n",
       "      <td>3</td>\n",
       "      <td>No Income</td>\n",
       "      <td>0</td>\n",
       "      <td>6</td>\n",
       "      <td>12.9473</td>\n",
       "      <td>77.5616</td>\n",
       "      <td>560019</td>\n",
       "      <td>1</td>\n",
       "      <td>1</td>\n",
       "    </tr>\n",
       "    <tr>\n",
       "      <th>4</th>\n",
       "      <td>22</td>\n",
       "      <td>1</td>\n",
       "      <td>2</td>\n",
       "      <td>3</td>\n",
       "      <td>Below Rs.10000</td>\n",
       "      <td>2</td>\n",
       "      <td>4</td>\n",
       "      <td>12.9850</td>\n",
       "      <td>77.5533</td>\n",
       "      <td>560010</td>\n",
       "      <td>1</td>\n",
       "      <td>1</td>\n",
       "    </tr>\n",
       "  </tbody>\n",
       "</table>\n",
       "</div>"
      ],
      "text/plain": [
       "   Age  Gender  Marital Status  Occupation  Monthly Income  \\\n",
       "0   20       0               2           3       No Income   \n",
       "1   24       0               2           3  Below Rs.10000   \n",
       "2   22       1               2           3  Below Rs.10000   \n",
       "3   22       0               2           3       No Income   \n",
       "4   22       1               2           3  Below Rs.10000   \n",
       "\n",
       "   Educational Qualifications  Family size  latitude  longitude  Pin code  \\\n",
       "0                           2            4   12.9766    77.5993    560001   \n",
       "1                           0            3   12.9770    77.5773    560009   \n",
       "2                           2            3   12.9551    77.6593    560017   \n",
       "3                           0            6   12.9473    77.5616    560019   \n",
       "4                           2            4   12.9850    77.5533    560010   \n",
       "\n",
       "   Output  Feedback  \n",
       "0       1         1  \n",
       "1       1         1  \n",
       "2       1         0  \n",
       "3       1         1  \n",
       "4       1         1  "
      ]
     },
     "execution_count": 98,
     "metadata": {},
     "output_type": "execute_result"
    }
   ],
   "source": [
    "data['Output'] = LabelEncoder().fit_transform(data['Output'])\n",
    "data.head()"
   ]
  },
  {
   "cell_type": "code",
   "execution_count": 99,
   "id": "a7f83706-1d18-4f88-bcbd-46712a1f83ef",
   "metadata": {},
   "outputs": [
    {
     "data": {
      "text/plain": [
       "Monthly Income\n",
       "No Income          187\n",
       "25001 to 50000      69\n",
       "More than 50000     62\n",
       "10001 to 25000      45\n",
       "Below Rs.10000      25\n",
       "Name: count, dtype: int64"
      ]
     },
     "execution_count": 99,
     "metadata": {},
     "output_type": "execute_result"
    }
   ],
   "source": [
    "#unique salary classes\n",
    "data['Monthly Income'].value_counts()"
   ]
  },
  {
   "cell_type": "markdown",
   "id": "c786c280-2daa-4fc3-a848-a656a3bfc15e",
   "metadata": {},
   "source": [
    "Generating classes for target attribute"
   ]
  },
  {
   "cell_type": "code",
   "execution_count": 100,
   "id": "bafb7d88-31ff-46b0-9942-64117931f144",
   "metadata": {},
   "outputs": [
    {
     "data": {
      "text/html": [
       "<div>\n",
       "<style scoped>\n",
       "    .dataframe tbody tr th:only-of-type {\n",
       "        vertical-align: middle;\n",
       "    }\n",
       "\n",
       "    .dataframe tbody tr th {\n",
       "        vertical-align: top;\n",
       "    }\n",
       "\n",
       "    .dataframe thead th {\n",
       "        text-align: right;\n",
       "    }\n",
       "</style>\n",
       "<table border=\"1\" class=\"dataframe\">\n",
       "  <thead>\n",
       "    <tr style=\"text-align: right;\">\n",
       "      <th></th>\n",
       "      <th>Age</th>\n",
       "      <th>Gender</th>\n",
       "      <th>Marital Status</th>\n",
       "      <th>Occupation</th>\n",
       "      <th>Monthly Income</th>\n",
       "      <th>Educational Qualifications</th>\n",
       "      <th>Family size</th>\n",
       "      <th>latitude</th>\n",
       "      <th>longitude</th>\n",
       "      <th>Pin code</th>\n",
       "      <th>Output</th>\n",
       "      <th>Feedback</th>\n",
       "    </tr>\n",
       "  </thead>\n",
       "  <tbody>\n",
       "    <tr>\n",
       "      <th>0</th>\n",
       "      <td>20</td>\n",
       "      <td>0</td>\n",
       "      <td>2</td>\n",
       "      <td>3</td>\n",
       "      <td>0</td>\n",
       "      <td>2</td>\n",
       "      <td>4</td>\n",
       "      <td>12.9766</td>\n",
       "      <td>77.5993</td>\n",
       "      <td>560001</td>\n",
       "      <td>1</td>\n",
       "      <td>1</td>\n",
       "    </tr>\n",
       "    <tr>\n",
       "      <th>1</th>\n",
       "      <td>24</td>\n",
       "      <td>0</td>\n",
       "      <td>2</td>\n",
       "      <td>3</td>\n",
       "      <td>1</td>\n",
       "      <td>0</td>\n",
       "      <td>3</td>\n",
       "      <td>12.9770</td>\n",
       "      <td>77.5773</td>\n",
       "      <td>560009</td>\n",
       "      <td>1</td>\n",
       "      <td>1</td>\n",
       "    </tr>\n",
       "    <tr>\n",
       "      <th>2</th>\n",
       "      <td>22</td>\n",
       "      <td>1</td>\n",
       "      <td>2</td>\n",
       "      <td>3</td>\n",
       "      <td>1</td>\n",
       "      <td>2</td>\n",
       "      <td>3</td>\n",
       "      <td>12.9551</td>\n",
       "      <td>77.6593</td>\n",
       "      <td>560017</td>\n",
       "      <td>1</td>\n",
       "      <td>0</td>\n",
       "    </tr>\n",
       "    <tr>\n",
       "      <th>3</th>\n",
       "      <td>22</td>\n",
       "      <td>0</td>\n",
       "      <td>2</td>\n",
       "      <td>3</td>\n",
       "      <td>0</td>\n",
       "      <td>0</td>\n",
       "      <td>6</td>\n",
       "      <td>12.9473</td>\n",
       "      <td>77.5616</td>\n",
       "      <td>560019</td>\n",
       "      <td>1</td>\n",
       "      <td>1</td>\n",
       "    </tr>\n",
       "    <tr>\n",
       "      <th>4</th>\n",
       "      <td>22</td>\n",
       "      <td>1</td>\n",
       "      <td>2</td>\n",
       "      <td>3</td>\n",
       "      <td>1</td>\n",
       "      <td>2</td>\n",
       "      <td>4</td>\n",
       "      <td>12.9850</td>\n",
       "      <td>77.5533</td>\n",
       "      <td>560010</td>\n",
       "      <td>1</td>\n",
       "      <td>1</td>\n",
       "    </tr>\n",
       "  </tbody>\n",
       "</table>\n",
       "</div>"
      ],
      "text/plain": [
       "   Age  Gender  Marital Status  Occupation  Monthly Income  \\\n",
       "0   20       0               2           3               0   \n",
       "1   24       0               2           3               1   \n",
       "2   22       1               2           3               1   \n",
       "3   22       0               2           3               0   \n",
       "4   22       1               2           3               1   \n",
       "\n",
       "   Educational Qualifications  Family size  latitude  longitude  Pin code  \\\n",
       "0                           2            4   12.9766    77.5993    560001   \n",
       "1                           0            3   12.9770    77.5773    560009   \n",
       "2                           2            3   12.9551    77.6593    560017   \n",
       "3                           0            6   12.9473    77.5616    560019   \n",
       "4                           2            4   12.9850    77.5533    560010   \n",
       "\n",
       "   Output  Feedback  \n",
       "0       1         1  \n",
       "1       1         1  \n",
       "2       1         0  \n",
       "3       1         1  \n",
       "4       1         1  "
      ]
     },
     "execution_count": 100,
     "metadata": {},
     "output_type": "execute_result"
    }
   ],
   "source": [
    "# Converting 'Monthly Income' to numerical\n",
    "\n",
    "data[\"Monthly Income\"].replace({\"No Income\":0},inplace=True)\n",
    "data[\"Monthly Income\"].replace({\"Below Rs.10000\":1},inplace=True)\n",
    "data[\"Monthly Income\"].replace({\"10001 to 25000\":2},inplace=True)\n",
    "data[\"Monthly Income\"].replace({\"25001 to 50000\":3},inplace=True)\n",
    "data[\"Monthly Income\"].replace({\"More than 50000\":4},inplace=True)\n",
    "\n",
    "data.head()\n",
    "\n"
   ]
  },
  {
   "cell_type": "markdown",
   "id": "81bfc21c-785d-4b61-a661-df9cd75a9234",
   "metadata": {},
   "source": [
    "EDA"
   ]
  },
  {
   "cell_type": "code",
   "execution_count": 101,
   "id": "b0cb2601-5d02-40ba-8b2c-d9fdaa915930",
   "metadata": {},
   "outputs": [
    {
     "name": "stdout",
     "output_type": "stream",
     "text": [
      "              Age      Gender  Marital Status  Occupation  Monthly Income  \\\n",
      "count  388.000000  388.000000      388.000000  388.000000      388.000000   \n",
      "mean    24.628866    0.572165        1.412371    1.902062        1.469072   \n",
      "std      2.975593    0.495404        0.895035    1.329722        1.591831   \n",
      "min     18.000000    0.000000        0.000000    0.000000        0.000000   \n",
      "25%     23.000000    0.000000        0.000000    0.000000        0.000000   \n",
      "50%     24.000000    1.000000        2.000000    3.000000        1.000000   \n",
      "75%     26.000000    1.000000        2.000000    3.000000        3.000000   \n",
      "max     33.000000    1.000000        2.000000    3.000000        4.000000   \n",
      "\n",
      "       Educational Qualifications  Family size    latitude   longitude  \\\n",
      "count                  388.000000   388.000000  388.000000  388.000000   \n",
      "mean                     1.069588     3.280928   12.972058   77.600160   \n",
      "std                      1.035695     1.351025    0.044489    0.051354   \n",
      "min                      0.000000     1.000000   12.865200   77.484200   \n",
      "25%                      0.000000     2.000000   12.936900   77.565275   \n",
      "50%                      1.000000     3.000000   12.977000   77.592100   \n",
      "75%                      2.000000     4.000000   12.997025   77.630900   \n",
      "max                      4.000000     6.000000   13.102000   77.758200   \n",
      "\n",
      "            Pin code      Output    Feedback  \n",
      "count     388.000000  388.000000  388.000000  \n",
      "mean   560040.113402    0.775773    0.817010  \n",
      "std        31.399609    0.417611    0.387157  \n",
      "min    560001.000000    0.000000    0.000000  \n",
      "25%    560010.750000    1.000000    1.000000  \n",
      "50%    560033.500000    1.000000    1.000000  \n",
      "75%    560068.000000    1.000000    1.000000  \n",
      "max    560109.000000    1.000000    1.000000  \n"
     ]
    }
   ],
   "source": [
    "# Step 3: Exploratory Data Analysis (EDA)\n",
    "print(data.describe())"
   ]
  },
  {
   "cell_type": "markdown",
   "id": "1a58da58-a6ee-4255-852f-945f0b8af7ed",
   "metadata": {},
   "source": [
    "determining features and target columns"
   ]
  },
  {
   "cell_type": "code",
   "execution_count": 102,
   "id": "920cbc2c-6b96-4129-b615-fd3c7ee9869a",
   "metadata": {},
   "outputs": [],
   "source": [
    "# Step 4: Split the data into training and testing sets\n",
    "X = data.drop(columns=['Monthly Income'])\n",
    "y = data['Monthly Income']"
   ]
  },
  {
   "cell_type": "code",
   "execution_count": 103,
   "id": "4ae926d9-09f1-486a-81ac-11174e510e0c",
   "metadata": {},
   "outputs": [
    {
     "name": "stdout",
     "output_type": "stream",
     "text": [
      "<class 'pandas.core.frame.DataFrame'>\n",
      "RangeIndex: 388 entries, 0 to 387\n",
      "Data columns (total 12 columns):\n",
      " #   Column                      Non-Null Count  Dtype  \n",
      "---  ------                      --------------  -----  \n",
      " 0   Age                         388 non-null    int64  \n",
      " 1   Gender                      388 non-null    int64  \n",
      " 2   Marital Status              388 non-null    int64  \n",
      " 3   Occupation                  388 non-null    int64  \n",
      " 4   Monthly Income              388 non-null    int64  \n",
      " 5   Educational Qualifications  388 non-null    int64  \n",
      " 6   Family size                 388 non-null    int64  \n",
      " 7   latitude                    388 non-null    float64\n",
      " 8   longitude                   388 non-null    float64\n",
      " 9   Pin code                    388 non-null    int64  \n",
      " 10  Output                      388 non-null    int64  \n",
      " 11  Feedback                    388 non-null    int64  \n",
      "dtypes: float64(2), int64(10)\n",
      "memory usage: 36.5 KB\n"
     ]
    }
   ],
   "source": [
    "data.info()"
   ]
  },
  {
   "cell_type": "markdown",
   "id": "581eed21-31e8-46c8-8d74-9f0c20724957",
   "metadata": {},
   "source": [
    "Splitting the data into train and test dataset"
   ]
  },
  {
   "cell_type": "code",
   "execution_count": 104,
   "id": "4f2a583a-a185-43de-8132-4568b6641d57",
   "metadata": {},
   "outputs": [],
   "source": [
    "X_train, X_test, y_train, y_test = train_test_split(X, y, test_size=0.2, random_state=42)\n"
   ]
  },
  {
   "cell_type": "markdown",
   "id": "32a3a6de-e001-4662-9eac-5c6c9128c101",
   "metadata": {},
   "source": [
    "Testing various models to determine the best one for this dataset"
   ]
  },
  {
   "cell_type": "code",
   "execution_count": 105,
   "id": "55f64ad3-cc5c-4b61-a709-7b52bd9424a3",
   "metadata": {},
   "outputs": [],
   "source": [
    "# Step 5: Training various models\n",
    "models = {\n",
    "    \"Logistic Regression\": LogisticRegression(),\n",
    "    \"Perceptron\": Perceptron(),\n",
    "    \"MLP\": MLPClassifier(),\n",
    "    \"KNN\": KNeighborsClassifier(),\n",
    "    \"SVM\": SVC(),\n",
    "    \"Naïve Bayes\": GaussianNB()\n",
    "}\n",
    "\n"
   ]
  },
  {
   "cell_type": "code",
   "execution_count": 106,
   "id": "ab038a49-28d2-49aa-949c-4f2b48c097b5",
   "metadata": {},
   "outputs": [
    {
     "data": {
      "text/html": [
       "<div>\n",
       "<style scoped>\n",
       "    .dataframe tbody tr th:only-of-type {\n",
       "        vertical-align: middle;\n",
       "    }\n",
       "\n",
       "    .dataframe tbody tr th {\n",
       "        vertical-align: top;\n",
       "    }\n",
       "\n",
       "    .dataframe thead th {\n",
       "        text-align: right;\n",
       "    }\n",
       "</style>\n",
       "<table border=\"1\" class=\"dataframe\">\n",
       "  <thead>\n",
       "    <tr style=\"text-align: right;\">\n",
       "      <th></th>\n",
       "      <th>Age</th>\n",
       "      <th>Gender</th>\n",
       "      <th>Marital Status</th>\n",
       "      <th>Occupation</th>\n",
       "      <th>Monthly Income</th>\n",
       "      <th>Educational Qualifications</th>\n",
       "      <th>Family size</th>\n",
       "      <th>latitude</th>\n",
       "      <th>longitude</th>\n",
       "      <th>Pin code</th>\n",
       "      <th>Output</th>\n",
       "      <th>Feedback</th>\n",
       "    </tr>\n",
       "  </thead>\n",
       "  <tbody>\n",
       "    <tr>\n",
       "      <th>0</th>\n",
       "      <td>20</td>\n",
       "      <td>0</td>\n",
       "      <td>2</td>\n",
       "      <td>3</td>\n",
       "      <td>0</td>\n",
       "      <td>2</td>\n",
       "      <td>4</td>\n",
       "      <td>12.9766</td>\n",
       "      <td>77.5993</td>\n",
       "      <td>560001</td>\n",
       "      <td>1</td>\n",
       "      <td>1</td>\n",
       "    </tr>\n",
       "    <tr>\n",
       "      <th>1</th>\n",
       "      <td>24</td>\n",
       "      <td>0</td>\n",
       "      <td>2</td>\n",
       "      <td>3</td>\n",
       "      <td>1</td>\n",
       "      <td>0</td>\n",
       "      <td>3</td>\n",
       "      <td>12.9770</td>\n",
       "      <td>77.5773</td>\n",
       "      <td>560009</td>\n",
       "      <td>1</td>\n",
       "      <td>1</td>\n",
       "    </tr>\n",
       "    <tr>\n",
       "      <th>2</th>\n",
       "      <td>22</td>\n",
       "      <td>1</td>\n",
       "      <td>2</td>\n",
       "      <td>3</td>\n",
       "      <td>1</td>\n",
       "      <td>2</td>\n",
       "      <td>3</td>\n",
       "      <td>12.9551</td>\n",
       "      <td>77.6593</td>\n",
       "      <td>560017</td>\n",
       "      <td>1</td>\n",
       "      <td>0</td>\n",
       "    </tr>\n",
       "    <tr>\n",
       "      <th>3</th>\n",
       "      <td>22</td>\n",
       "      <td>0</td>\n",
       "      <td>2</td>\n",
       "      <td>3</td>\n",
       "      <td>0</td>\n",
       "      <td>0</td>\n",
       "      <td>6</td>\n",
       "      <td>12.9473</td>\n",
       "      <td>77.5616</td>\n",
       "      <td>560019</td>\n",
       "      <td>1</td>\n",
       "      <td>1</td>\n",
       "    </tr>\n",
       "    <tr>\n",
       "      <th>4</th>\n",
       "      <td>22</td>\n",
       "      <td>1</td>\n",
       "      <td>2</td>\n",
       "      <td>3</td>\n",
       "      <td>1</td>\n",
       "      <td>2</td>\n",
       "      <td>4</td>\n",
       "      <td>12.9850</td>\n",
       "      <td>77.5533</td>\n",
       "      <td>560010</td>\n",
       "      <td>1</td>\n",
       "      <td>1</td>\n",
       "    </tr>\n",
       "  </tbody>\n",
       "</table>\n",
       "</div>"
      ],
      "text/plain": [
       "   Age  Gender  Marital Status  Occupation  Monthly Income  \\\n",
       "0   20       0               2           3               0   \n",
       "1   24       0               2           3               1   \n",
       "2   22       1               2           3               1   \n",
       "3   22       0               2           3               0   \n",
       "4   22       1               2           3               1   \n",
       "\n",
       "   Educational Qualifications  Family size  latitude  longitude  Pin code  \\\n",
       "0                           2            4   12.9766    77.5993    560001   \n",
       "1                           0            3   12.9770    77.5773    560009   \n",
       "2                           2            3   12.9551    77.6593    560017   \n",
       "3                           0            6   12.9473    77.5616    560019   \n",
       "4                           2            4   12.9850    77.5533    560010   \n",
       "\n",
       "   Output  Feedback  \n",
       "0       1         1  \n",
       "1       1         1  \n",
       "2       1         0  \n",
       "3       1         1  \n",
       "4       1         1  "
      ]
     },
     "execution_count": 106,
     "metadata": {},
     "output_type": "execute_result"
    }
   ],
   "source": [
    "data.head()"
   ]
  },
  {
   "cell_type": "code",
   "execution_count": 107,
   "id": "3292f662-91fb-4aaa-aba1-902e65039f23",
   "metadata": {},
   "outputs": [
    {
     "name": "stdout",
     "output_type": "stream",
     "text": [
      "Logistic Regression: Accuracy - 0.5897435897435898\n",
      "Perceptron: Accuracy - 0.0641025641025641\n",
      "MLP: Accuracy - 0.5897435897435898\n",
      "KNN: Accuracy - 0.6410256410256411\n",
      "SVM: Accuracy - 0.5897435897435898\n",
      "Naïve Bayes: Accuracy - 0.6666666666666666\n"
     ]
    }
   ],
   "source": [
    "for name, model in models.items():\n",
    "    model.fit(X_train, y_train)\n",
    "\n",
    "# Step 6: Testing the models\n",
    "results = {}\n",
    "for name, model in models.items():\n",
    "    y_pred = model.predict(X_test)\n",
    "    accuracy = accuracy_score(y_test, y_pred)\n",
    "    results[name] = accuracy\n",
    "    print(f\"{name}: Accuracy - {accuracy}\")\n"
   ]
  },
  {
   "cell_type": "code",
   "execution_count": 108,
   "id": "01397447-eaf1-4377-92af-3857966ff245",
   "metadata": {},
   "outputs": [
    {
     "name": "stdout",
     "output_type": "stream",
     "text": [
      "Best model: Naïve Bayes with accuracy 0.6666666666666666\n"
     ]
    }
   ],
   "source": [
    "# Step 7: Model evaluation\n",
    "best_model = max(results, key=results.get)\n",
    "print(f\"Best model: {best_model} with accuracy {results[best_model]}\")"
   ]
  },
  {
   "cell_type": "code",
   "execution_count": 109,
   "id": "8c2b1137-37d4-4779-ac8d-d314a38b32f9",
   "metadata": {},
   "outputs": [
    {
     "data": {
      "text/plain": [
       "array([3, 0, 0, 0, 3, 0, 0, 0, 4, 4, 0, 3, 2, 0, 4, 1, 0, 4, 0, 0, 0, 0,\n",
       "       0, 4, 0, 0, 0, 1, 0, 3, 0, 0, 0, 0, 3, 2, 0, 0, 0, 0, 0, 0, 3, 0,\n",
       "       0, 3, 0, 0, 0, 3, 0, 0, 0, 0, 0, 0, 0, 0, 2, 4, 3, 3, 4, 2, 0, 3,\n",
       "       3, 3, 0, 0, 3, 0, 0, 0, 0, 0, 2, 4])"
      ]
     },
     "execution_count": 109,
     "metadata": {},
     "output_type": "execute_result"
    }
   ],
   "source": [
    "model=GaussianNB()\n",
    "model.fit(X_train,y_train)\n",
    "y_pred=model.predict(X_test)\n",
    "y_pred\n"
   ]
  },
  {
   "cell_type": "code",
   "execution_count": 110,
   "id": "caeaeb49-7520-4a1e-9f8f-c233e0ba0e11",
   "metadata": {},
   "outputs": [
    {
     "data": {
      "text/plain": [
       "271    1\n",
       "46     0\n",
       "167    0\n",
       "42     0\n",
       "349    3\n",
       "      ..\n",
       "3      0\n",
       "18     0\n",
       "93     0\n",
       "108    1\n",
       "255    4\n",
       "Name: Monthly Income, Length: 78, dtype: int64"
      ]
     },
     "execution_count": 110,
     "metadata": {},
     "output_type": "execute_result"
    }
   ],
   "source": [
    "y_test"
   ]
  },
  {
   "cell_type": "code",
   "execution_count": 111,
   "id": "4dfc60ce-4eb6-41c7-800b-bf24984ae323",
   "metadata": {},
   "outputs": [
    {
     "name": "stdout",
     "output_type": "stream",
     "text": [
      "shape of y_pred = 78\n",
      "y_test = 78\n"
     ]
    }
   ],
   "source": [
    "print(f\"shape of y_pred = {y_pred.shape[0]}\\ny_test = {y_test.shape[0]}\")"
   ]
  },
  {
   "cell_type": "markdown",
   "id": "9f283072-0bad-48c0-9e88-051fa5c9ea82",
   "metadata": {},
   "source": [
    "Scatter plot for actual and predicted results"
   ]
  },
  {
   "cell_type": "code",
   "execution_count": 113,
   "id": "ff61530d-ebdb-4804-b8fa-146b32c3d7ee",
   "metadata": {},
   "outputs": [
    {
     "data": {
      "image/png": "[encoded data removed]",
      "text/plain": [
       "<Figure size 800x600 with 1 Axes>"
      ]
     },
     "metadata": {},
     "output_type": "display_data"
    }
   ],
   "source": [
    "plt.figure(figsize=(8, 6))\n",
    "plt.scatter(range(len(y_test)), y_test, color='green', label='Actual')\n",
    "plt.scatter(range(len(y_pred)), y_pred, color='blue',label='Predicted')\n",
    "plt.xlabel('Sample Index')\n",
    "plt.ylabel('Monthly Income')\n",
    "plt.title('Gaussian Naive Bayes Predicted Results')\n",
    "plt.legend()\n",
    "plt.show()\n"
   ]
  },
  {
   "cell_type": "markdown",
   "id": "a35a6c87-09c5-4c0f-bbe4-249c171724f9",
   "metadata": {},
   "source": [
    "F1 score and Accuracy"
   ]
  },
  {
   "cell_type": "code",
   "execution_count": 115,
   "id": "60b06e79-41dd-44e1-8d8f-bfa4cdb8a8f2",
   "metadata": {},
   "outputs": [
    {
     "name": "stdout",
     "output_type": "stream",
     "text": [
      "Accuracy: 0.6666666666666666\n",
      "F1 Score: 0.6900974868586205\n"
     ]
    }
   ],
   "source": [
    "from sklearn.metrics import (\n",
    "    accuracy_score,\n",
    "    confusion_matrix,\n",
    "    ConfusionMatrixDisplay,\n",
    "    f1_score,\n",
    ")\n",
    "\n",
    "accuray = accuracy_score(y_pred, y_test)\n",
    "f1 = f1_score(y_pred, y_test, average=\"weighted\")\n",
    "\n",
    "print(\"Accuracy:\", accuray)\n",
    "print(\"F1 Score:\", f1)"
   ]
  },
  {
   "cell_type": "markdown",
   "id": "294ef98a-6592-4dc7-bf31-d99e12cd158f",
   "metadata": {},
   "source": [
    "Plotting the Confusion matrix"
   ]
  },
  {
   "cell_type": "code",
   "execution_count": 128,
   "id": "215a4d9d-b187-4876-b4dd-ff815ea81da2",
   "metadata": {},
   "outputs": [
    {
     "data": {
      "text/plain": [
       "<sklearn.metrics._plot.confusion_matrix.ConfusionMatrixDisplay at 0x7ff5aa8e84d0>"
      ]
     },
     "execution_count": 128,
     "metadata": {},
     "output_type": "execute_result"
    },
    {
     "data": {
      "image/png": "[encoded data removed]",
      "text/plain": [
       "<Figure size 640x480 with 2 Axes>"
      ]
     },
     "metadata": {},
     "output_type": "display_data"
    }
   ],
   "source": [
    "\n",
    "labels = [\"No Income\",\"<10000\", \"10001<sal<25000\",\"25001<sal<50000\",\">50000\"]\n",
    "cm = confusion_matrix(y_test, y_pred)\n",
    "disp = ConfusionMatrixDisplay(confusion_matrix=cm, display_labels=labels)\n",
    "disp.plot()"
   ]
  },
  {
   "cell_type": "code",
   "execution_count": 117,
   "id": "703eee59-cabc-4e71-b3c4-cb0506c99ad4",
   "metadata": {},
   "outputs": [
    {
     "data": {
      "text/plain": [
       "Monthly Income\n",
       "0    187\n",
       "3     69\n",
       "4     62\n",
       "2     45\n",
       "1     25\n",
       "Name: count, dtype: int64"
      ]
     },
     "execution_count": 117,
     "metadata": {},
     "output_type": "execute_result"
    }
   ],
   "source": [
    "data['Monthly Income'].value_counts()"
   ]
  }
 ],
 "metadata": {
  "kernelspec": {
   "display_name": "Python 3 (ipykernel)",
   "language": "python",
   "name": "python3"
  },
  "language_info": {
   "codemirror_mode": {
    "name": "ipython",
    "version": 3
   },
   "file_extension": ".py",
   "mimetype": "text/x-python",
   "name": "python",
   "nbconvert_exporter": "python",
   "pygments_lexer": "ipython3",
   "version": "3.11.7"
  }
 },
 "nbformat": 4,
 "nbformat_minor": 5
}
